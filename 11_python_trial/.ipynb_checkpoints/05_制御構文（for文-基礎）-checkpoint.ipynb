{
 "cells": [
  {
   "cell_type": "markdown",
   "metadata": {},
   "source": [
    "## [制御文] 「for文-基礎」について"
   ]
  },
  {
   "cell_type": "code",
   "execution_count": 30,
   "metadata": {},
   "outputs": [],
   "source": [
    "names = ['松丸', '諸本', '西迫', '森田', '清水']"
   ]
  },
  {
   "cell_type": "code",
   "execution_count": 31,
   "metadata": {},
   "outputs": [
    {
     "name": "stdout",
     "output_type": "stream",
     "text": [
      "['松丸', '諸本', '西迫', '森田', '清水']\n"
     ]
    }
   ],
   "source": [
    "print(names)"
   ]
  },
  {
   "cell_type": "code",
   "execution_count": 32,
   "metadata": {},
   "outputs": [
    {
     "name": "stdout",
     "output_type": "stream",
     "text": [
      "松丸\n"
     ]
    }
   ],
   "source": [
    "print(names[0])"
   ]
  },
  {
   "cell_type": "code",
   "execution_count": 33,
   "metadata": {},
   "outputs": [
    {
     "name": "stdout",
     "output_type": "stream",
     "text": [
      "諸本\n",
      "西迫\n",
      "森田\n",
      "清水\n"
     ]
    }
   ],
   "source": [
    "print(names[1])\n",
    "print(names[2])\n",
    "print(names[3])\n",
    "print(names[4])"
   ]
  },
  {
   "cell_type": "markdown",
   "metadata": {},
   "source": [
    "### 【!重要!】少数の要素であれば上記の記述で問題ないが、要素が膨大な数になった場合記述が煩雑になる"
   ]
  },
  {
   "cell_type": "code",
   "execution_count": 34,
   "metadata": {},
   "outputs": [
    {
     "name": "stdout",
     "output_type": "stream",
     "text": [
      "0\n",
      "1\n",
      "2\n",
      "3\n",
      "4\n"
     ]
    }
   ],
   "source": [
    "## 要素を０〜5番目まで順に抽出する\n",
    "for i in range(5):\n",
    "    print(i)"
   ]
  },
  {
   "cell_type": "code",
   "execution_count": 35,
   "metadata": {},
   "outputs": [
    {
     "name": "stdout",
     "output_type": "stream",
     "text": [
      "松丸\n",
      "諸本\n",
      "西迫\n",
      "森田\n",
      "清水\n"
     ]
    }
   ],
   "source": [
    "## 要素の中に含まれる値を0~5番目まで順に抽出する\n",
    "for i in range(5):\n",
    "    print(names[i])"
   ]
  },
  {
   "cell_type": "code",
   "execution_count": 36,
   "metadata": {},
   "outputs": [
    {
     "data": {
      "text/plain": [
       "5"
      ]
     },
     "execution_count": 36,
     "metadata": {},
     "output_type": "execute_result"
    }
   ],
   "source": [
    "## 要素の数が増減した場合であってもプログラム的に読み取って抽出を行たい\n",
    "## len() : 要素数/文字列の長さを取得する\n",
    "len(names)"
   ]
  },
  {
   "cell_type": "code",
   "execution_count": 37,
   "metadata": {},
   "outputs": [
    {
     "name": "stdout",
     "output_type": "stream",
     "text": [
      "松丸さん\n",
      "諸本さん\n",
      "西迫さん\n",
      "森田さん\n",
      "清水さん\n",
      "深谷さん\n",
      "淺川さん\n",
      "浦田さん\n"
     ]
    }
   ],
   "source": [
    "names = ['松丸', '諸本', '西迫', '森田', '清水', '深谷', '淺川', '浦田']\n",
    "for i in range(len(names)):\n",
    "    print(names[i]+'さん')"
   ]
  },
  {
   "cell_type": "markdown",
   "metadata": {},
   "source": [
    "## for文のベストプラクティス（推奨されている書式）"
   ]
  },
  {
   "cell_type": "code",
   "execution_count": 38,
   "metadata": {},
   "outputs": [
    {
     "name": "stdout",
     "output_type": "stream",
     "text": [
      "松丸氏\n",
      "諸本氏\n",
      "西迫氏\n",
      "森田氏\n",
      "清水氏\n",
      "深谷氏\n",
      "淺川氏\n",
      "浦田氏\n",
      "八嶺氏\n",
      "小澤氏\n",
      "吉澤氏\n"
     ]
    }
   ],
   "source": [
    "names = ['松丸', '諸本', '西迫', '森田', '清水', '深谷', '淺川', '浦田', '八嶺', '小澤', '吉澤']\n",
    "for name in names:\n",
    "    print(name + '氏')"
   ]
  },
  {
   "cell_type": "code",
   "execution_count": 39,
   "metadata": {},
   "outputs": [],
   "source": [
    "## 【解説】 変数\"names\"にリスト型指定で値を格納し、単数系変数の\"name\"に一つずつ代入し、print関数で変数nameの値を出力"
   ]
  },
  {
   "cell_type": "code",
   "execution_count": null,
   "metadata": {},
   "outputs": [],
   "source": []
  },
  {
   "cell_type": "markdown",
   "metadata": {},
   "source": [
    "### 【演習】 1~20までの値を全て足すfor文を考える"
   ]
  },
  {
   "cell_type": "code",
   "execution_count": 40,
   "metadata": {},
   "outputs": [
    {
     "name": "stdout",
     "output_type": "stream",
     "text": [
      "1\n",
      "2\n",
      "3\n",
      "4\n",
      "5\n",
      "6\n",
      "7\n",
      "8\n",
      "9\n",
      "10\n",
      "11\n",
      "12\n",
      "13\n",
      "14\n",
      "15\n",
      "16\n",
      "17\n",
      "18\n",
      "19\n",
      "20\n"
     ]
    }
   ],
   "source": [
    "for num in range(20):\n",
    "    print(num+1)"
   ]
  },
  {
   "cell_type": "code",
   "execution_count": 41,
   "metadata": {},
   "outputs": [],
   "source": [
    "sum = 0\n",
    "for num in range(20):\n",
    "    sum += num+1"
   ]
  },
  {
   "cell_type": "code",
   "execution_count": 42,
   "metadata": {},
   "outputs": [
    {
     "name": "stdout",
     "output_type": "stream",
     "text": [
      "210\n"
     ]
    }
   ],
   "source": [
    "print(sum)"
   ]
  },
  {
   "cell_type": "code",
   "execution_count": null,
   "metadata": {},
   "outputs": [],
   "source": []
  },
  {
   "cell_type": "code",
   "execution_count": 43,
   "metadata": {},
   "outputs": [
    {
     "name": "stdout",
     "output_type": "stream",
     "text": [
      "松丸さん\n",
      "諸本さん\n",
      "西迫さん\n",
      "森田さん\n",
      "清水さん\n",
      "深谷さん\n",
      "淺川さん\n",
      "浦田さん\n",
      "八嶺さん\n",
      "小澤さん\n",
      "吉澤さん\n"
     ]
    }
   ],
   "source": [
    "for name in names:\n",
    "    print(name + 'さん')"
   ]
  },
  {
   "cell_type": "code",
   "execution_count": null,
   "metadata": {},
   "outputs": [],
   "source": []
  }
 ],
 "metadata": {
  "kernelspec": {
   "display_name": "Python 3",
   "language": "python",
   "name": "python3"
  },
  "language_info": {
   "codemirror_mode": {
    "name": "ipython",
    "version": 3
   },
   "file_extension": ".py",
   "mimetype": "text/x-python",
   "name": "python",
   "nbconvert_exporter": "python",
   "pygments_lexer": "ipython3",
   "version": "3.7.6"
  }
 },
 "nbformat": 4,
 "nbformat_minor": 4
}
