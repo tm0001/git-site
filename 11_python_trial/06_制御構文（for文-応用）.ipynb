{
 "cells": [
  {
   "cell_type": "markdown",
   "metadata": {},
   "source": [
    "## [制御文] 「for文-応用」について"
   ]
  },
  {
   "cell_type": "code",
   "execution_count": 14,
   "metadata": {},
   "outputs": [],
   "source": [
    "last_names = ['松丸', '諸本', '西迫', '森田', '清水']\n",
    "first_names = ['祐樹', '慎一', '慎吾', '幸恵', '慎也']"
   ]
  },
  {
   "cell_type": "code",
   "execution_count": 15,
   "metadata": {},
   "outputs": [
    {
     "name": "stdout",
     "output_type": "stream",
     "text": [
      "松丸祐樹さん\n",
      "諸本慎一さん\n",
      "西迫慎吾さん\n",
      "森田幸恵さん\n",
      "清水慎也さん\n"
     ]
    }
   ],
   "source": [
    "print(last_names[0]+first_names[0]+'さん')\n",
    "print(last_names[1]+first_names[1]+'さん')\n",
    "print(last_names[2]+first_names[2]+'さん')\n",
    "print(last_names[3]+first_names[3]+'さん')\n",
    "print(last_names[4]+first_names[4]+'さん')"
   ]
  },
  {
   "cell_type": "code",
   "execution_count": 16,
   "metadata": {},
   "outputs": [
    {
     "name": "stdout",
     "output_type": "stream",
     "text": [
      "松丸祐樹さん\n",
      "諸本慎一さん\n",
      "西迫慎吾さん\n",
      "森田幸恵さん\n",
      "清水慎也さん\n"
     ]
    }
   ],
   "source": [
    "## 簡略化した記述\n",
    "for i in range(len(last_names)):\n",
    "    print(last_names[i]+first_names[i]+'さん')"
   ]
  },
  {
   "cell_type": "code",
   "execution_count": null,
   "metadata": {},
   "outputs": [],
   "source": []
  },
  {
   "cell_type": "markdown",
   "metadata": {},
   "source": [
    "### 【参考】zip関数：複数のリストの要素を一つにまとめて取り出す\n",
    "* 3つ以上のリストからも同時に要素を取得することが可能"
   ]
  },
  {
   "cell_type": "code",
   "execution_count": 38,
   "metadata": {},
   "outputs": [
    {
     "name": "stdout",
     "output_type": "stream",
     "text": [
      "松丸祐樹さん\n",
      "諸本慎一さん\n",
      "西迫慎吾さん\n",
      "森田幸恵さん\n",
      "清水慎也さん\n"
     ]
    }
   ],
   "source": [
    "## zip関数 = zip(A, B)で、複数のリストの要素を同時に取得\n",
    "for last_name, first_name in zip(last_names, first_names):\n",
    "    print(last_name+first_name+'さん')"
   ]
  },
  {
   "cell_type": "code",
   "execution_count": null,
   "metadata": {},
   "outputs": [],
   "source": []
  },
  {
   "cell_type": "markdown",
   "metadata": {},
   "source": [
    "### 【参考】 enumerate : リストの「要素番号」と「要素」を同時に取得する"
   ]
  },
  {
   "cell_type": "code",
   "execution_count": 33,
   "metadata": {},
   "outputs": [
    {
     "data": {
      "text/plain": [
       "['松丸', '諸本', '西迫', '森田', '清水']"
      ]
     },
     "execution_count": 33,
     "metadata": {},
     "output_type": "execute_result"
    }
   ],
   "source": [
    "last_names"
   ]
  },
  {
   "cell_type": "code",
   "execution_count": 34,
   "metadata": {},
   "outputs": [
    {
     "name": "stdout",
     "output_type": "stream",
     "text": [
      "出席番号 0 番目の松丸さん\n",
      "出席番号 1 番目の諸本さん\n",
      "出席番号 2 番目の西迫さん\n",
      "出席番号 3 番目の森田さん\n",
      "出席番号 4 番目の清水さん\n"
     ]
    }
   ],
   "source": [
    "print('出席番号', 0, '番目の'+last_names[0]+'さん')\n",
    "print('出席番号', 1, '番目の'+last_names[1]+'さん')\n",
    "print('出席番号', 2, '番目の'+last_names[2]+'さん')\n",
    "print('出席番号', 3, '番目の'+last_names[3]+'さん')\n",
    "print('出席番号', 4, '番目の'+last_names[4]+'さん')"
   ]
  },
  {
   "cell_type": "code",
   "execution_count": 35,
   "metadata": {},
   "outputs": [
    {
     "name": "stdout",
     "output_type": "stream",
     "text": [
      "出席番号 0 番目の松丸さん\n",
      "出席番号 1 番目の諸本さん\n",
      "出席番号 2 番目の西迫さん\n",
      "出席番号 3 番目の森田さん\n",
      "出席番号 4 番目の清水さん\n"
     ]
    }
   ],
   "source": [
    "for i in range(len(last_names)):\n",
    "    print('出席番号', i, '番目の'+last_names[i]+'さん')"
   ]
  },
  {
   "cell_type": "code",
   "execution_count": 36,
   "metadata": {},
   "outputs": [
    {
     "name": "stdout",
     "output_type": "stream",
     "text": [
      "出席番号 0 番目の松丸さん\n",
      "出席番号 1 番目の諸本さん\n",
      "出席番号 2 番目の西迫さん\n",
      "出席番号 3 番目の森田さん\n",
      "出席番号 4 番目の清水さん\n"
     ]
    }
   ],
   "source": [
    "## enumerate関数 = 値を出力する際、要素だけでなく要素番号も合わせて取得 -> 出力を行う\n",
    "## 操作：enumerateで変数「last_names」を取得し、変数「last_names」に格納されている\"要素\"と\"要素\"番号を1つずつ、新しい変数「last_name」に代入していく\n",
    "for num, last_name in enumerate(last_names):\n",
    "    print('出席番号', num, '番目の'+last_name+'さん')"
   ]
  },
  {
   "cell_type": "code",
   "execution_count": null,
   "metadata": {},
   "outputs": [],
   "source": []
  },
  {
   "cell_type": "markdown",
   "metadata": {},
   "source": [
    "#### まとめ\n",
    "* zip関数：複数のリストの要素を同時に取得する\n",
    "* enumerate関数：リストの「要素番号」と「要素」を同時に取得する ※通常時は「要素」のみ取り出す"
   ]
  },
  {
   "cell_type": "code",
   "execution_count": null,
   "metadata": {},
   "outputs": [],
   "source": []
  }
 ],
 "metadata": {
  "kernelspec": {
   "display_name": "Python 3",
   "language": "python",
   "name": "python3"
  },
  "language_info": {
   "codemirror_mode": {
    "name": "ipython",
    "version": 3
   },
   "file_extension": ".py",
   "mimetype": "text/x-python",
   "name": "python",
   "nbconvert_exporter": "python",
   "pygments_lexer": "ipython3",
   "version": "3.7.6"
  }
 },
 "nbformat": 4,
 "nbformat_minor": 4
}
