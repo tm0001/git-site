{
 "cells": [
  {
   "cell_type": "markdown",
   "metadata": {},
   "source": [
    "## [制御文] 「while文」について\n",
    "\n",
    "* while : ある条件を満たしている間、繰り返し処理をし続ける文法"
   ]
  },
  {
   "cell_type": "code",
   "execution_count": 28,
   "metadata": {},
   "outputs": [
    {
     "name": "stdout",
     "output_type": "stream",
     "text": [
      "残り 15 秒\n",
      "残り 14 秒\n",
      "残り 13 秒\n",
      "残り 12 秒\n",
      "残り 11 秒\n",
      "残り 10 秒\n",
      "残り 9 秒\n",
      "残り 8 秒\n",
      "残り 7 秒\n",
      "残り 6 秒\n",
      "残り 5 秒\n",
      "残り 4 秒\n",
      "残り 3 秒\n",
      "残り 2 秒\n",
      "残り 1 秒\n",
      "試合を終了します\n"
     ]
    }
   ],
   "source": [
    "time = 15\n",
    "\n",
    "while time>0:\n",
    "    print('残り', time, '秒')\n",
    "    time -= 1\n",
    "\n",
    "print('試合を終了します')"
   ]
  },
  {
   "cell_type": "code",
   "execution_count": null,
   "metadata": {},
   "outputs": [],
   "source": []
  },
  {
   "cell_type": "markdown",
   "metadata": {},
   "source": [
    "### while文の基礎\n",
    "* break文：繰り返し処理を強制的に終了させる\n",
    "* continue文：繰り返し処理に於いて、ある条件に満たした場合のみその処理をスキップする"
   ]
  },
  {
   "cell_type": "code",
   "execution_count": 29,
   "metadata": {},
   "outputs": [
    {
     "name": "stdout",
     "output_type": "stream",
     "text": [
      "1\n",
      "2\n",
      "3\n",
      "4\n",
      "5\n",
      "6\n",
      "7\n",
      "8\n",
      "9\n",
      "10\n",
      "11\n",
      "12\n",
      "13\n",
      "14\n",
      "15\n",
      "16\n",
      "17\n",
      "18\n",
      "19\n",
      "20\n",
      "21\n",
      "22\n",
      "23\n",
      "24\n"
     ]
    }
   ],
   "source": [
    "## break文：繰り返し処理を強制的に終了させる\n",
    "## ❶変数[i]に１を加算し続ける\n",
    "## ❷変数[i]が２０と等しくなった時、処理を終了する（出力した後に繰り返し処理を行うため、19まで出力される）\n",
    "\n",
    "i = 0\n",
    "\n",
    "while True:\n",
    "    i += 1\n",
    "    if i==25:\n",
    "        break\n",
    "    print(i)"
   ]
  },
  {
   "cell_type": "code",
   "execution_count": 30,
   "metadata": {},
   "outputs": [
    {
     "name": "stdout",
     "output_type": "stream",
     "text": [
      "1\n",
      "2\n",
      "3\n",
      "4\n",
      "5\n",
      "6\n",
      "7\n",
      "8\n",
      "9\n",
      "10\n",
      "11\n",
      "12\n",
      "13\n",
      "14\n",
      "15\n",
      "16\n",
      "17\n",
      "18\n",
      "19\n",
      "20\n",
      "21\n",
      "22\n",
      "23\n",
      "24\n",
      "26\n",
      "27\n",
      "28\n",
      "29\n",
      "30\n"
     ]
    }
   ],
   "source": [
    "## continue文：繰り返し処理に於いて、ある条件に満たした場合のみその処理を「スキップ」する\n",
    "## ❶変数[i]に１を加算し続ける\n",
    "## ❷変数[i]が２０と等しくなった時、処理をスキップする（25を出力をしない）\n",
    "## ❸変数[i]が30よりも大きくなった場合、処理を終了する（出力した後に繰り返し処理を行うため、３０まで出力される）\n",
    "\n",
    "\n",
    "i = 0\n",
    "\n",
    "while True:\n",
    "    i += 1\n",
    "    if i==25:\n",
    "        continue\n",
    "    elif i>30:\n",
    "        break\n",
    "    print(i)"
   ]
  },
  {
   "cell_type": "code",
   "execution_count": null,
   "metadata": {},
   "outputs": [],
   "source": []
  }
 ],
 "metadata": {
  "kernelspec": {
   "display_name": "Python 3",
   "language": "python",
   "name": "python3"
  },
  "language_info": {
   "codemirror_mode": {
    "name": "ipython",
    "version": 3
   },
   "file_extension": ".py",
   "mimetype": "text/x-python",
   "name": "python",
   "nbconvert_exporter": "python",
   "pygments_lexer": "ipython3",
   "version": "3.7.6"
  }
 },
 "nbformat": 4,
 "nbformat_minor": 4
}
