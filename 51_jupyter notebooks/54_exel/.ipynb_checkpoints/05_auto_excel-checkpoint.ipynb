{
 "cells": [
  {
   "cell_type": "code",
   "execution_count": 14,
   "metadata": {},
   "outputs": [],
   "source": [
    "import openpyxl\n",
    "import pandas as pd   #pandasの省略形式を「pd」として定義している\n",
    "import glob                 #glob()関数を使用するためのインポート操作"
   ]
  },
  {
   "cell_type": "code",
   "execution_count": 15,
   "metadata": {},
   "outputs": [],
   "source": [
    "export_file_path = '/Users/masatotakeuchi/Desktop/python/51_jupyter notebooks/54_exel/input'\n",
    "import_folder_path = '/Users/masatotakeuchi/Desktop/python/51_jupyter notebooks/54_exel/output'\n",
    "path = import_folder_path + '/' + '*.xlsx'\n",
    "file_path = glob.glob(path)     #glob()関数を用いて、引数に指定したパターンをディレクトリ内で検索"
   ]
  },
  {
   "cell_type": "code",
   "execution_count": 16,
   "metadata": {},
   "outputs": [],
   "source": [
    "df_concat=pd.DataFrame()     #データが入っていない空のデータフレームを作成し、変数に格納する\n",
    "\n",
    "for i in file_path:\n",
    "    df_read_excel=pd.read_excel(i)\n",
    "    df_concat=pd.concat([df_read_excel,df_concat])     #concat関数はそれぞれのデータフレームを結合することが可能"
   ]
  },
  {
   "cell_type": "code",
   "execution_count": 17,
   "metadata": {},
   "outputs": [],
   "source": [
    "df_drop = df_concat.drop('Unnamed: 0', axis = 1)     #「drop」データフレームの列/行を削除、削除する方向(列/行)を指定\n",
    "\n",
    "df_sort = df_drop.sort_values(by='発注金額', ascending=False)     #「発注金額」の項目を降順で表示（True=昇順）\n",
    "\n",
    "df_sort.to_excel(export_file_path + '/' + '予実管理表.xlsx')     #出力ファイルの格納先を指定（ファイル名は\"予実管理表\"）"
   ]
  },
  {
   "cell_type": "code",
   "execution_count": 18,
   "metadata": {},
   "outputs": [],
   "source": [
    "workbook = openpyxl.load_workbook(export_file_path+'/予実管理表.xlsx')     #load_workbook関数：Excelファイルを読み込む\n",
    "worksheet = workbook.worksheets[0]                                                                    #「０」と指定することで一番最初のシートを選択\n",
    "worksheet.delete_cols(1)                                                                                         #delete_cols関数：指定した列を削除（１列目を削除）\n",
    "workbook.save(export_file_path+'/予実管理表_01.xlsx')                                    #save関数：ファイルを保存（引数に保存場所指定）"
   ]
  },
  {
   "cell_type": "code",
   "execution_count": null,
   "metadata": {},
   "outputs": [],
   "source": []
  }
 ],
 "metadata": {
  "kernelspec": {
   "display_name": "Python 3",
   "language": "python",
   "name": "python3"
  },
  "language_info": {
   "codemirror_mode": {
    "name": "ipython",
    "version": 3
   },
   "file_extension": ".py",
   "mimetype": "text/x-python",
   "name": "python",
   "nbconvert_exporter": "python",
   "pygments_lexer": "ipython3",
   "version": "3.7.6"
  }
 },
 "nbformat": 4,
 "nbformat_minor": 4
}
