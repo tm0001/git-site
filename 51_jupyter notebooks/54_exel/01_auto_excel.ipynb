{
 "cells": [
  {
   "cell_type": "code",
   "execution_count": 28,
   "metadata": {},
   "outputs": [
    {
     "name": "stdout",
     "output_type": "stream",
     "text": [
      "Requirement already satisfied: openpyxl in /Users/masatotakeuchi/.pyenv/versions/3.7.4/lib/python3.7/site-packages (3.0.3)\n",
      "Requirement already satisfied: jdcal in /Users/masatotakeuchi/.pyenv/versions/3.7.4/lib/python3.7/site-packages (from openpyxl) (1.4.1)\n",
      "Requirement already satisfied: et_xmlfile in /Users/masatotakeuchi/.pyenv/versions/3.7.4/lib/python3.7/site-packages (from openpyxl) (1.0.1)\n"
     ]
    }
   ],
   "source": [
    "!pip install openpyxl"
   ]
  },
  {
   "cell_type": "code",
   "execution_count": 29,
   "metadata": {},
   "outputs": [],
   "source": [
    "import openpyxl\n",
    "import pandas as pd\n",
    "import glob"
   ]
  },
  {
   "cell_type": "code",
   "execution_count": 30,
   "metadata": {},
   "outputs": [],
   "source": [
    "import_file_path = '/Users/masatotakeuchi/Desktop/python/51_jupyter notebooks/54_exel/sample.xlsx'\n",
    "excel_sheet_name = '発注管理表'\n",
    "export_file_path = '/Users/masatotakeuchi/Desktop/python/51_jupyter notebooks/54_exel/output'"
   ]
  },
  {
   "cell_type": "code",
   "execution_count": 31,
   "metadata": {},
   "outputs": [
    {
     "data": {
      "text/plain": [
       "'Desktop/python/51_jupyter notebooks/54_exel/sample.xlsx'"
      ]
     },
     "execution_count": 31,
     "metadata": {},
     "output_type": "execute_result"
    }
   ],
   "source": [
    "'Desktop/python/51_jupyter notebooks/54_exel/sample.xlsx'"
   ]
  },
  {
   "cell_type": "code",
   "execution_count": 32,
   "metadata": {},
   "outputs": [],
   "source": [
    "df_order = pd.read_excel(import_file_path, sheet_name = excel_sheet_name)"
   ]
  },
  {
   "cell_type": "code",
   "execution_count": 33,
   "metadata": {},
   "outputs": [
    {
     "data": {
      "text/html": [
       "<div>\n",
       "<style scoped>\n",
       "    .dataframe tbody tr th:only-of-type {\n",
       "        vertical-align: middle;\n",
       "    }\n",
       "\n",
       "    .dataframe tbody tr th {\n",
       "        vertical-align: top;\n",
       "    }\n",
       "\n",
       "    .dataframe thead th {\n",
       "        text-align: right;\n",
       "    }\n",
       "</style>\n",
       "<table border=\"1\" class=\"dataframe\">\n",
       "  <thead>\n",
       "    <tr style=\"text-align: right;\">\n",
       "      <th></th>\n",
       "      <th>会社名</th>\n",
       "      <th>商品番号</th>\n",
       "      <th>商品分類</th>\n",
       "      <th>商品名</th>\n",
       "      <th>単価</th>\n",
       "      <th>数量</th>\n",
       "      <th>発注金額</th>\n",
       "    </tr>\n",
       "  </thead>\n",
       "  <tbody>\n",
       "    <tr>\n",
       "      <th>0</th>\n",
       "      <td>株式会社A</td>\n",
       "      <td>a019</td>\n",
       "      <td>食べ物</td>\n",
       "      <td>バナナ</td>\n",
       "      <td>700</td>\n",
       "      <td>5</td>\n",
       "      <td>3500</td>\n",
       "    </tr>\n",
       "    <tr>\n",
       "      <th>1</th>\n",
       "      <td>株式会社E</td>\n",
       "      <td>a010</td>\n",
       "      <td>お酒</td>\n",
       "      <td>ビール</td>\n",
       "      <td>1000</td>\n",
       "      <td>9</td>\n",
       "      <td>9000</td>\n",
       "    </tr>\n",
       "    <tr>\n",
       "      <th>2</th>\n",
       "      <td>株式会社C</td>\n",
       "      <td>a003</td>\n",
       "      <td>お酒</td>\n",
       "      <td>ハイボール</td>\n",
       "      <td>200</td>\n",
       "      <td>1</td>\n",
       "      <td>200</td>\n",
       "    </tr>\n",
       "    <tr>\n",
       "      <th>3</th>\n",
       "      <td>株式会社D</td>\n",
       "      <td>a012</td>\n",
       "      <td>食べ物</td>\n",
       "      <td>リンゴ</td>\n",
       "      <td>150</td>\n",
       "      <td>1</td>\n",
       "      <td>150</td>\n",
       "    </tr>\n",
       "    <tr>\n",
       "      <th>4</th>\n",
       "      <td>株式会社E</td>\n",
       "      <td>a017</td>\n",
       "      <td>食べ物</td>\n",
       "      <td>メロン</td>\n",
       "      <td>700</td>\n",
       "      <td>1</td>\n",
       "      <td>700</td>\n",
       "    </tr>\n",
       "    <tr>\n",
       "      <th>5</th>\n",
       "      <td>株式会社F</td>\n",
       "      <td>a014</td>\n",
       "      <td>食べ物</td>\n",
       "      <td>バナナ</td>\n",
       "      <td>500</td>\n",
       "      <td>8</td>\n",
       "      <td>4000</td>\n",
       "    </tr>\n",
       "    <tr>\n",
       "      <th>6</th>\n",
       "      <td>株式会社D</td>\n",
       "      <td>a015</td>\n",
       "      <td>お酒</td>\n",
       "      <td>ハイボール</td>\n",
       "      <td>300</td>\n",
       "      <td>1</td>\n",
       "      <td>300</td>\n",
       "    </tr>\n",
       "    <tr>\n",
       "      <th>7</th>\n",
       "      <td>株式会社D</td>\n",
       "      <td>a012</td>\n",
       "      <td>お酒</td>\n",
       "      <td>日本酒</td>\n",
       "      <td>1500</td>\n",
       "      <td>1</td>\n",
       "      <td>1500</td>\n",
       "    </tr>\n",
       "    <tr>\n",
       "      <th>8</th>\n",
       "      <td>株式会社C</td>\n",
       "      <td>a020</td>\n",
       "      <td>お酒</td>\n",
       "      <td>ビール</td>\n",
       "      <td>400</td>\n",
       "      <td>2</td>\n",
       "      <td>800</td>\n",
       "    </tr>\n",
       "    <tr>\n",
       "      <th>9</th>\n",
       "      <td>株式会社B</td>\n",
       "      <td>a011</td>\n",
       "      <td>お酒</td>\n",
       "      <td>ビール</td>\n",
       "      <td>400</td>\n",
       "      <td>2</td>\n",
       "      <td>800</td>\n",
       "    </tr>\n",
       "    <tr>\n",
       "      <th>10</th>\n",
       "      <td>株式会社A</td>\n",
       "      <td>a007</td>\n",
       "      <td>薬</td>\n",
       "      <td>胃薬</td>\n",
       "      <td>700</td>\n",
       "      <td>4</td>\n",
       "      <td>2800</td>\n",
       "    </tr>\n",
       "    <tr>\n",
       "      <th>11</th>\n",
       "      <td>株式会社B</td>\n",
       "      <td>a012</td>\n",
       "      <td>食べ物</td>\n",
       "      <td>ピーチ</td>\n",
       "      <td>800</td>\n",
       "      <td>4</td>\n",
       "      <td>3200</td>\n",
       "    </tr>\n",
       "    <tr>\n",
       "      <th>12</th>\n",
       "      <td>株式会社C</td>\n",
       "      <td>a013</td>\n",
       "      <td>食べ物</td>\n",
       "      <td>リンゴ</td>\n",
       "      <td>500</td>\n",
       "      <td>7</td>\n",
       "      <td>3500</td>\n",
       "    </tr>\n",
       "    <tr>\n",
       "      <th>13</th>\n",
       "      <td>株式会社D</td>\n",
       "      <td>a014</td>\n",
       "      <td>お酒</td>\n",
       "      <td>日本酒</td>\n",
       "      <td>3000</td>\n",
       "      <td>2</td>\n",
       "      <td>6000</td>\n",
       "    </tr>\n",
       "    <tr>\n",
       "      <th>14</th>\n",
       "      <td>株式会社D</td>\n",
       "      <td>a001</td>\n",
       "      <td>お酒</td>\n",
       "      <td>ハイボール</td>\n",
       "      <td>650</td>\n",
       "      <td>4</td>\n",
       "      <td>2600</td>\n",
       "    </tr>\n",
       "    <tr>\n",
       "      <th>15</th>\n",
       "      <td>株式会社A</td>\n",
       "      <td>a002</td>\n",
       "      <td>食べ物</td>\n",
       "      <td>キウイ</td>\n",
       "      <td>120</td>\n",
       "      <td>4</td>\n",
       "      <td>480</td>\n",
       "    </tr>\n",
       "    <tr>\n",
       "      <th>16</th>\n",
       "      <td>株式会社E</td>\n",
       "      <td>a003</td>\n",
       "      <td>お酒</td>\n",
       "      <td>ビール</td>\n",
       "      <td>400</td>\n",
       "      <td>2</td>\n",
       "      <td>800</td>\n",
       "    </tr>\n",
       "    <tr>\n",
       "      <th>17</th>\n",
       "      <td>株式会社A</td>\n",
       "      <td>a015</td>\n",
       "      <td>薬</td>\n",
       "      <td>頭痛薬</td>\n",
       "      <td>300</td>\n",
       "      <td>3</td>\n",
       "      <td>900</td>\n",
       "    </tr>\n",
       "    <tr>\n",
       "      <th>18</th>\n",
       "      <td>株式会社C</td>\n",
       "      <td>a016</td>\n",
       "      <td>薬</td>\n",
       "      <td>胃薬</td>\n",
       "      <td>2000</td>\n",
       "      <td>4</td>\n",
       "      <td>8000</td>\n",
       "    </tr>\n",
       "    <tr>\n",
       "      <th>19</th>\n",
       "      <td>株式会社E</td>\n",
       "      <td>a007</td>\n",
       "      <td>食べ物</td>\n",
       "      <td>キウイ</td>\n",
       "      <td>800</td>\n",
       "      <td>6</td>\n",
       "      <td>4800</td>\n",
       "    </tr>\n",
       "    <tr>\n",
       "      <th>20</th>\n",
       "      <td>株式会社C</td>\n",
       "      <td>a015</td>\n",
       "      <td>お酒</td>\n",
       "      <td>日本酒</td>\n",
       "      <td>500</td>\n",
       "      <td>2</td>\n",
       "      <td>1000</td>\n",
       "    </tr>\n",
       "    <tr>\n",
       "      <th>21</th>\n",
       "      <td>株式会社B</td>\n",
       "      <td>a001</td>\n",
       "      <td>食べ物</td>\n",
       "      <td>リンゴ</td>\n",
       "      <td>200</td>\n",
       "      <td>1</td>\n",
       "      <td>200</td>\n",
       "    </tr>\n",
       "    <tr>\n",
       "      <th>22</th>\n",
       "      <td>株式会社E</td>\n",
       "      <td>a006</td>\n",
       "      <td>食べ物</td>\n",
       "      <td>スイカ</td>\n",
       "      <td>700</td>\n",
       "      <td>4</td>\n",
       "      <td>2800</td>\n",
       "    </tr>\n",
       "    <tr>\n",
       "      <th>23</th>\n",
       "      <td>株式会社A</td>\n",
       "      <td>a001</td>\n",
       "      <td>お酒</td>\n",
       "      <td>ビール</td>\n",
       "      <td>200</td>\n",
       "      <td>5</td>\n",
       "      <td>1000</td>\n",
       "    </tr>\n",
       "    <tr>\n",
       "      <th>24</th>\n",
       "      <td>株式会社C</td>\n",
       "      <td>a019</td>\n",
       "      <td>食べ物</td>\n",
       "      <td>キウイ</td>\n",
       "      <td>1500</td>\n",
       "      <td>7</td>\n",
       "      <td>10500</td>\n",
       "    </tr>\n",
       "  </tbody>\n",
       "</table>\n",
       "</div>"
      ],
      "text/plain": [
       "      会社名  商品番号 商品分類    商品名    単価  数量   発注金額\n",
       "0   株式会社A  a019  食べ物    バナナ   700   5   3500\n",
       "1   株式会社E  a010   お酒    ビール  1000   9   9000\n",
       "2   株式会社C  a003   お酒  ハイボール   200   1    200\n",
       "3   株式会社D  a012  食べ物    リンゴ   150   1    150\n",
       "4   株式会社E  a017  食べ物    メロン   700   1    700\n",
       "5   株式会社F  a014  食べ物    バナナ   500   8   4000\n",
       "6   株式会社D  a015   お酒  ハイボール   300   1    300\n",
       "7   株式会社D  a012   お酒    日本酒  1500   1   1500\n",
       "8   株式会社C  a020   お酒    ビール   400   2    800\n",
       "9   株式会社B  a011   お酒    ビール   400   2    800\n",
       "10  株式会社A  a007    薬     胃薬   700   4   2800\n",
       "11  株式会社B  a012  食べ物    ピーチ   800   4   3200\n",
       "12  株式会社C  a013  食べ物    リンゴ   500   7   3500\n",
       "13  株式会社D  a014   お酒    日本酒  3000   2   6000\n",
       "14  株式会社D  a001   お酒  ハイボール   650   4   2600\n",
       "15  株式会社A  a002  食べ物    キウイ   120   4    480\n",
       "16  株式会社E  a003   お酒    ビール   400   2    800\n",
       "17  株式会社A  a015    薬    頭痛薬   300   3    900\n",
       "18  株式会社C  a016    薬     胃薬  2000   4   8000\n",
       "19  株式会社E  a007  食べ物    キウイ   800   6   4800\n",
       "20  株式会社C  a015   お酒    日本酒   500   2   1000\n",
       "21  株式会社B  a001  食べ物    リンゴ   200   1    200\n",
       "22  株式会社E  a006  食べ物    スイカ   700   4   2800\n",
       "23  株式会社A  a001   お酒    ビール   200   5   1000\n",
       "24  株式会社C  a019  食べ物    キウイ  1500   7  10500"
      ]
     },
     "execution_count": 33,
     "metadata": {},
     "output_type": "execute_result"
    }
   ],
   "source": [
    "df_order"
   ]
  },
  {
   "cell_type": "code",
   "execution_count": 34,
   "metadata": {},
   "outputs": [],
   "source": [
    "company_name = df_order['会社名'].unique()"
   ]
  },
  {
   "cell_type": "code",
   "execution_count": 35,
   "metadata": {},
   "outputs": [
    {
     "data": {
      "text/plain": [
       "array(['株式会社A', '株式会社E', '株式会社C', '株式会社D', '株式会社F', '株式会社B'], dtype=object)"
      ]
     },
     "execution_count": 35,
     "metadata": {},
     "output_type": "execute_result"
    }
   ],
   "source": [
    "company_name"
   ]
  },
  {
   "cell_type": "code",
   "execution_count": 36,
   "metadata": {},
   "outputs": [
    {
     "data": {
      "text/plain": [
       "numpy.ndarray"
      ]
     },
     "execution_count": 36,
     "metadata": {},
     "output_type": "execute_result"
    }
   ],
   "source": [
    "type(company_name)"
   ]
  },
  {
   "cell_type": "code",
   "execution_count": 37,
   "metadata": {},
   "outputs": [
    {
     "data": {
      "text/plain": [
       "pandas.core.frame.DataFrame"
      ]
     },
     "execution_count": 37,
     "metadata": {},
     "output_type": "execute_result"
    }
   ],
   "source": [
    "type(df_order)"
   ]
  },
  {
   "cell_type": "code",
   "execution_count": 38,
   "metadata": {},
   "outputs": [
    {
     "data": {
      "text/plain": [
       "0      True\n",
       "1     False\n",
       "2     False\n",
       "3     False\n",
       "4     False\n",
       "5     False\n",
       "6     False\n",
       "7     False\n",
       "8     False\n",
       "9     False\n",
       "10     True\n",
       "11    False\n",
       "12    False\n",
       "13    False\n",
       "14    False\n",
       "15     True\n",
       "16    False\n",
       "17     True\n",
       "18    False\n",
       "19    False\n",
       "20    False\n",
       "21    False\n",
       "22    False\n",
       "23     True\n",
       "24    False\n",
       "Name: 会社名, dtype: bool"
      ]
     },
     "execution_count": 38,
     "metadata": {},
     "output_type": "execute_result"
    }
   ],
   "source": [
    "df_order['会社名'] == '株式会社A'"
   ]
  },
  {
   "cell_type": "code",
   "execution_count": 39,
   "metadata": {},
   "outputs": [
    {
     "data": {
      "text/html": [
       "<div>\n",
       "<style scoped>\n",
       "    .dataframe tbody tr th:only-of-type {\n",
       "        vertical-align: middle;\n",
       "    }\n",
       "\n",
       "    .dataframe tbody tr th {\n",
       "        vertical-align: top;\n",
       "    }\n",
       "\n",
       "    .dataframe thead th {\n",
       "        text-align: right;\n",
       "    }\n",
       "</style>\n",
       "<table border=\"1\" class=\"dataframe\">\n",
       "  <thead>\n",
       "    <tr style=\"text-align: right;\">\n",
       "      <th></th>\n",
       "      <th>会社名</th>\n",
       "      <th>商品番号</th>\n",
       "      <th>商品分類</th>\n",
       "      <th>商品名</th>\n",
       "      <th>単価</th>\n",
       "      <th>数量</th>\n",
       "      <th>発注金額</th>\n",
       "    </tr>\n",
       "  </thead>\n",
       "  <tbody>\n",
       "    <tr>\n",
       "      <th>0</th>\n",
       "      <td>株式会社A</td>\n",
       "      <td>a019</td>\n",
       "      <td>食べ物</td>\n",
       "      <td>バナナ</td>\n",
       "      <td>700</td>\n",
       "      <td>5</td>\n",
       "      <td>3500</td>\n",
       "    </tr>\n",
       "    <tr>\n",
       "      <th>10</th>\n",
       "      <td>株式会社A</td>\n",
       "      <td>a007</td>\n",
       "      <td>薬</td>\n",
       "      <td>胃薬</td>\n",
       "      <td>700</td>\n",
       "      <td>4</td>\n",
       "      <td>2800</td>\n",
       "    </tr>\n",
       "    <tr>\n",
       "      <th>15</th>\n",
       "      <td>株式会社A</td>\n",
       "      <td>a002</td>\n",
       "      <td>食べ物</td>\n",
       "      <td>キウイ</td>\n",
       "      <td>120</td>\n",
       "      <td>4</td>\n",
       "      <td>480</td>\n",
       "    </tr>\n",
       "    <tr>\n",
       "      <th>17</th>\n",
       "      <td>株式会社A</td>\n",
       "      <td>a015</td>\n",
       "      <td>薬</td>\n",
       "      <td>頭痛薬</td>\n",
       "      <td>300</td>\n",
       "      <td>3</td>\n",
       "      <td>900</td>\n",
       "    </tr>\n",
       "    <tr>\n",
       "      <th>23</th>\n",
       "      <td>株式会社A</td>\n",
       "      <td>a001</td>\n",
       "      <td>お酒</td>\n",
       "      <td>ビール</td>\n",
       "      <td>200</td>\n",
       "      <td>5</td>\n",
       "      <td>1000</td>\n",
       "    </tr>\n",
       "  </tbody>\n",
       "</table>\n",
       "</div>"
      ],
      "text/plain": [
       "      会社名  商品番号 商品分類  商品名   単価  数量  発注金額\n",
       "0   株式会社A  a019  食べ物  バナナ  700   5  3500\n",
       "10  株式会社A  a007    薬   胃薬  700   4  2800\n",
       "15  株式会社A  a002  食べ物  キウイ  120   4   480\n",
       "17  株式会社A  a015    薬  頭痛薬  300   3   900\n",
       "23  株式会社A  a001   お酒  ビール  200   5  1000"
      ]
     },
     "execution_count": 39,
     "metadata": {},
     "output_type": "execute_result"
    }
   ],
   "source": [
    "df_order[df_order['会社名'] == '株式会社A']"
   ]
  },
  {
   "cell_type": "code",
   "execution_count": 40,
   "metadata": {},
   "outputs": [
    {
     "name": "stdout",
     "output_type": "stream",
     "text": [
      "株式会社A\n",
      "株式会社E\n",
      "株式会社C\n",
      "株式会社D\n",
      "株式会社F\n",
      "株式会社B\n"
     ]
    }
   ],
   "source": [
    "for i in company_name:\n",
    "    print(i)"
   ]
  },
  {
   "cell_type": "code",
   "execution_count": 41,
   "metadata": {},
   "outputs": [
    {
     "name": "stdout",
     "output_type": "stream",
     "text": [
      "      会社名  商品番号 商品分類  商品名   単価  数量  発注金額\n",
      "0   株式会社A  a019  食べ物  バナナ  700   5  3500\n",
      "10  株式会社A  a007    薬   胃薬  700   4  2800\n",
      "15  株式会社A  a002  食べ物  キウイ  120   4   480\n",
      "17  株式会社A  a015    薬  頭痛薬  300   3   900\n",
      "23  株式会社A  a001   お酒  ビール  200   5  1000\n",
      "      会社名  商品番号 商品分類  商品名    単価  数量  発注金額\n",
      "1   株式会社E  a010   お酒  ビール  1000   9  9000\n",
      "4   株式会社E  a017  食べ物  メロン   700   1   700\n",
      "16  株式会社E  a003   お酒  ビール   400   2   800\n",
      "19  株式会社E  a007  食べ物  キウイ   800   6  4800\n",
      "22  株式会社E  a006  食べ物  スイカ   700   4  2800\n",
      "      会社名  商品番号 商品分類    商品名    単価  数量   発注金額\n",
      "2   株式会社C  a003   お酒  ハイボール   200   1    200\n",
      "8   株式会社C  a020   お酒    ビール   400   2    800\n",
      "12  株式会社C  a013  食べ物    リンゴ   500   7   3500\n",
      "18  株式会社C  a016    薬     胃薬  2000   4   8000\n",
      "20  株式会社C  a015   お酒    日本酒   500   2   1000\n",
      "24  株式会社C  a019  食べ物    キウイ  1500   7  10500\n",
      "      会社名  商品番号 商品分類    商品名    単価  数量  発注金額\n",
      "3   株式会社D  a012  食べ物    リンゴ   150   1   150\n",
      "6   株式会社D  a015   お酒  ハイボール   300   1   300\n",
      "7   株式会社D  a012   お酒    日本酒  1500   1  1500\n",
      "13  株式会社D  a014   お酒    日本酒  3000   2  6000\n",
      "14  株式会社D  a001   お酒  ハイボール   650   4  2600\n",
      "     会社名  商品番号 商品分類  商品名   単価  数量  発注金額\n",
      "5  株式会社F  a014  食べ物  バナナ  500   8  4000\n",
      "      会社名  商品番号 商品分類  商品名   単価  数量  発注金額\n",
      "9   株式会社B  a011   お酒  ビール  400   2   800\n",
      "11  株式会社B  a012  食べ物  ピーチ  800   4  3200\n",
      "21  株式会社B  a001  食べ物  リンゴ  200   1   200\n"
     ]
    }
   ],
   "source": [
    "for i in company_name:\n",
    "    df_order_company = df_order[df_order['会社名'] == i]\n",
    "    print(df_order_company)"
   ]
  },
  {
   "cell_type": "code",
   "execution_count": 44,
   "metadata": {},
   "outputs": [],
   "source": [
    "for i in company_name:\n",
    "    df_order_company = df_order[df_order['会社名'] == i]\n",
    "    df_order_company.to_excel(export_file_path+'/'+i+'.xlsx')"
   ]
  },
  {
   "cell_type": "code",
   "execution_count": null,
   "metadata": {},
   "outputs": [],
   "source": []
  }
 ],
 "metadata": {
  "kernelspec": {
   "display_name": "Python 3",
   "language": "python",
   "name": "python3"
  },
  "language_info": {
   "codemirror_mode": {
    "name": "ipython",
    "version": 3
   },
   "file_extension": ".py",
   "mimetype": "text/x-python",
   "name": "python",
   "nbconvert_exporter": "python",
   "pygments_lexer": "ipython3",
   "version": "3.7.6"
  }
 },
 "nbformat": 4,
 "nbformat_minor": 4
}
