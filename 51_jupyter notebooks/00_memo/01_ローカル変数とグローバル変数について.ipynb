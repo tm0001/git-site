{
 "cells": [
  {
   "cell_type": "code",
   "execution_count": 10,
   "metadata": {},
   "outputs": [
    {
     "name": "stdout",
     "output_type": "stream",
     "text": [
      "　global\n",
      "　global\n"
     ]
    }
   ],
   "source": [
    "#グローバル変数\n",
    "gvar = '　global'　　　#関数の外で変数を定義している\n",
    " \n",
    "def gfunc():\n",
    "    print(gvar)      #「gfunc」という関数を定義している。→gfunc()の実行とprint(gvar)は同じコマンドである\n",
    "    \n",
    "gfunc()　　　　　　　　　　　　　　　#「gfunc」の実行は「print(gvar)」と等しいため、正しく出力される\n",
    "print(gvar)          #「gfunc」関数の外でも「gvar」という変数を１行目で定義しているため正しく出力される"
   ]
  },
  {
   "cell_type": "code",
   "execution_count": 11,
   "metadata": {},
   "outputs": [
    {
     "name": "stdout",
     "output_type": "stream",
     "text": [
      "local\n"
     ]
    },
    {
     "ename": "NameError",
     "evalue": "name 'lvar' is not defined",
     "output_type": "error",
     "traceback": [
      "\u001b[0;31m---------------------------------------------------------------------------\u001b[0m",
      "\u001b[0;31mNameError\u001b[0m                                 Traceback (most recent call last)",
      "\u001b[0;32m<ipython-input-11-093e3b4fb79c>\u001b[0m in \u001b[0;36m<module>\u001b[0;34m\u001b[0m\n\u001b[1;32m      5\u001b[0m \u001b[0;34m\u001b[0m\u001b[0m\n\u001b[1;32m      6\u001b[0m \u001b[0mlfunc\u001b[0m\u001b[0;34m(\u001b[0m\u001b[0;34m)\u001b[0m\u001b[0;34m\u001b[0m\u001b[0;34m\u001b[0m\u001b[0m\n\u001b[0;32m----> 7\u001b[0;31m \u001b[0mprint\u001b[0m\u001b[0;34m(\u001b[0m\u001b[0mlvar\u001b[0m\u001b[0;34m)\u001b[0m\u001b[0;34m\u001b[0m\u001b[0;34m\u001b[0m\u001b[0m\n\u001b[0m",
      "\u001b[0;31mNameError\u001b[0m: name 'lvar' is not defined"
     ]
    }
   ],
   "source": [
    "#ローカル変数\n",
    "def lfunc():\n",
    "    lvar = 'local'   #関数の中で（dufコマンド中で）変数を定義している\n",
    "    print(lvar)      #「lfunc」という関数を定義している。→lfunc()の実行とprint(lvar)は同じコマンドである\n",
    "    \n",
    "lfunc()　　　　　　　　　　　　　　　#「lfunc」の実行は「print(lvar)」と等しいため、正しく出力される\n",
    "print(lvar)          #「lfunc」関数の外では「lvar」という変数は未知の存在となるためエラーとなる"
   ]
  },
  {
   "cell_type": "code",
   "execution_count": null,
   "metadata": {},
   "outputs": [],
   "source": []
  }
 ],
 "metadata": {
  "kernelspec": {
   "display_name": "Python 3",
   "language": "python",
   "name": "python3"
  },
  "language_info": {
   "codemirror_mode": {
    "name": "ipython",
    "version": 3
   },
   "file_extension": ".py",
   "mimetype": "text/x-python",
   "name": "python",
   "nbconvert_exporter": "python",
   "pygments_lexer": "ipython3",
   "version": "3.7.6"
  }
 },
 "nbformat": 4,
 "nbformat_minor": 4
}
