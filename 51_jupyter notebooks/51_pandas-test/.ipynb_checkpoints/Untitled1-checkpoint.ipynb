{
 "cells": [
  {
   "cell_type": "code",
   "execution_count": 1,
   "metadata": {},
   "outputs": [
    {
     "name": "stdout",
     "output_type": "stream",
     "text": [
      "['/Users/masatotakeuchi/Desktop/python/51_pandas-test',\n",
      " '/Users/masatotakeuchi/opt/anaconda3/lib/python37.zip',\n",
      " '/Users/masatotakeuchi/opt/anaconda3/lib/python3.7',\n",
      " '/Users/masatotakeuchi/opt/anaconda3/lib/python3.7/lib-dynload',\n",
      " '',\n",
      " '/Users/masatotakeuchi/opt/anaconda3/lib/python3.7/site-packages',\n",
      " '/Users/masatotakeuchi/opt/anaconda3/lib/python3.7/site-packages/aeosa',\n",
      " '/Users/masatotakeuchi/opt/anaconda3/lib/python3.7/site-packages/IPython/extensions',\n",
      " '/Users/masatotakeuchi/.ipython']\n"
     ]
    }
   ],
   "source": [
    "import sys\n",
    "import pprint\n",
    "pprint.pprint(sys.path)"
   ]
  },
  {
   "cell_type": "code",
   "execution_count": 1,
   "metadata": {},
   "outputs": [
    {
     "name": "stdout",
     "output_type": "stream",
     "text": [
      "Collecting opencv-python\n",
      "  Downloading opencv_python-4.2.0.34-cp37-cp37m-macosx_10_9_x86_64.whl (49.1 MB)\n",
      "\u001b[K     |████████████████████████████████| 49.1 MB 4.6 MB/s eta 0:00:01     |███████████████▋                | 24.0 MB 9.7 MB/s eta 0:00:03\n",
      "\u001b[?25hRequirement already satisfied: numpy>=1.14.5 in /Users/masatotakeuchi/opt/anaconda3/lib/python3.7/site-packages (from opencv-python) (1.18.1)\n",
      "Installing collected packages: opencv-python\n",
      "Successfully installed opencv-python-4.2.0.34\n",
      "Note: you may need to restart the kernel to use updated packages.\n"
     ]
    }
   ],
   "source": [
    "pip install opencv-python"
   ]
  },
  {
   "cell_type": "code",
   "execution_count": null,
   "metadata": {},
   "outputs": [],
   "source": []
  }
 ],
 "metadata": {
  "kernelspec": {
   "display_name": "Python 3",
   "language": "python",
   "name": "python3"
  },
  "language_info": {
   "codemirror_mode": {
    "name": "ipython",
    "version": 3
   },
   "file_extension": ".py",
   "mimetype": "text/x-python",
   "name": "python",
   "nbconvert_exporter": "python",
   "pygments_lexer": "ipython3",
   "version": "3.7.6"
  }
 },
 "nbformat": 4,
 "nbformat_minor": 4
}
