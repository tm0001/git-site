{
 "cells": [
  {
   "cell_type": "code",
   "execution_count": 1,
   "metadata": {},
   "outputs": [],
   "source": [
    "def validate(hand):\n",
    "    if hand < 0 or hand > 2:\n",
    "        return False\n",
    "    return True\n",
    "\n",
    "def print_hand(hand, name='ゲスト'):\n",
    "    hands = ['グー', 'チョキ', 'パー']\n",
    "    print(name + 'は' + hands[hand] + 'を出しました')\n",
    "\n",
    "def judge(player, computer):\n",
    "    if player == computer:\n",
    "        return '引き分け'\n",
    "    elif player == 0 and computer == 1:\n",
    "        return '勝ち'\n",
    "    elif player == 1 and computer == 2:\n",
    "        return '勝ち'\n",
    "    elif player == 2 and computer == 0:\n",
    "        return '勝ち'\n",
    "    else:\n",
    "        return '負け'"
   ]
  },
  {
   "cell_type": "code",
   "execution_count": null,
   "metadata": {},
   "outputs": [],
   "source": []
  }
 ],
 "metadata": {
  "kernelspec": {
   "display_name": "Python 3",
   "language": "python",
   "name": "python3"
  },
  "language_info": {
   "codemirror_mode": {
    "name": "ipython",
    "version": 3
   },
   "file_extension": ".py",
   "mimetype": "text/x-python",
   "name": "python",
   "nbconvert_exporter": "python",
   "pygments_lexer": "ipython3",
   "version": "3.7.6"
  }
 },
 "nbformat": 4,
 "nbformat_minor": 4
}
