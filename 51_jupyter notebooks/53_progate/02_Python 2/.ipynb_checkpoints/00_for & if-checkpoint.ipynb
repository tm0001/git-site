{
 "cells": [
  {
   "cell_type": "code",
   "execution_count": 1,
   "metadata": {},
   "outputs": [],
   "source": [
    "money = 1000\n",
    "items = {'apple': 100, 'banana': 200, 'orange': 400}"
   ]
  },
  {
   "cell_type": "code",
   "execution_count": 2,
   "metadata": {},
   "outputs": [
    {
     "name": "stdout",
     "output_type": "stream",
     "text": [
      "--------------------------------------------------\n",
      "財布には1000円入っています\n",
      "appleは1個100円です\n",
      "購入するappleの個数を入力してください：5\n",
      "購入するappleの個数は5個です\n",
      "支払い金額は500円です\n",
      "appleを5個買いました\n",
      "--------------------------------------------------\n",
      "財布には500円入っています\n",
      "bananaは1個200円です\n",
      "購入するbananaの個数を入力してください：5\n",
      "購入するbananaの個数は5個です\n",
      "支払い金額は1000円です\n",
      "お金が足りません\n",
      "bananaを買えませんでした\n",
      "--------------------------------------------------\n",
      "財布には500円入っています\n",
      "orangeは1個400円です\n",
      "購入するorangeの個数を入力してください：5\n",
      "購入するorangeの個数は5個です\n",
      "支払い金額は2000円です\n",
      "お金が足りません\n",
      "orangeを買えませんでした\n",
      "残金は500円です\n"
     ]
    }
   ],
   "source": [
    "for item_name in items:\n",
    "    print('--------------------------------------------------')\n",
    "    print('財布には' + str(money) + '円入っています')\n",
    "    print(item_name + 'は1個' + str(items[item_name]) + '円です')\n",
    "    \n",
    "    input_count = input('購入する' + item_name + 'の個数を入力してください：')\n",
    "    print('購入する' + item_name + 'の個数は' + input_count + '個です')\n",
    "    \n",
    "    count = int(input_count)\n",
    "    total_price = items[item_name] * count\n",
    "    print('支払い金額は' + str(total_price) + '円です')\n",
    "    \n",
    "    if money >= total_price:\n",
    "        print(item_name + 'を' + input_count + '個買いました')\n",
    "        money -= total_price\n",
    "        \n",
    "        if money == 0:\n",
    "            print('財布が空になりました')\n",
    "            break\n",
    "    else:\n",
    "        print('お金が足りません')\n",
    "        print(item_name + 'を買えませんでした')\n",
    "print('残金は' + str(money) + '円です')"
   ]
  },
  {
   "cell_type": "code",
   "execution_count": null,
   "metadata": {},
   "outputs": [],
   "source": []
  }
 ],
 "metadata": {
  "kernelspec": {
   "display_name": "Python 3",
   "language": "python",
   "name": "python3"
  },
  "language_info": {
   "codemirror_mode": {
    "name": "ipython",
    "version": 3
   },
   "file_extension": ".py",
   "mimetype": "text/x-python",
   "name": "python",
   "nbconvert_exporter": "python",
   "pygments_lexer": "ipython3",
   "version": "3.7.6"
  }
 },
 "nbformat": 4,
 "nbformat_minor": 4
}
