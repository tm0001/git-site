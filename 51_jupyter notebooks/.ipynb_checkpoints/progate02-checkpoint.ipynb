{
 "cells": [
  {
   "cell_type": "code",
   "execution_count": 8,
   "metadata": {},
   "outputs": [
    {
     "name": "stdout",
     "output_type": "stream",
     "text": [
      "購入するりんごの個数を入力してください：5\n"
     ]
    }
   ],
   "source": [
    "apple_price = 200\n",
    "\n",
    "money = 1000\n",
    "\n",
    "input_count = input('購入するりんごの個数を入力してください：')\n",
    "count = int(input_count)\n",
    "total_price = apple_price * count"
   ]
  },
  {
   "cell_type": "code",
   "execution_count": 11,
   "metadata": {},
   "outputs": [
    {
     "name": "stdout",
     "output_type": "stream",
     "text": [
      "購入するりんごの個数は5個です\n",
      "支払い金額は1000円です\n",
      "りんごを5個買いました\n",
      "財布が空になりました\n"
     ]
    }
   ],
   "source": [
    "print('購入するりんごの個数は' + str(count) + '個です')\n",
    "print('支払い金額は' + str(total_price) + '円です')\n",
    "\n",
    "if money == total_price:\n",
    "    print(\"りんごを\" + str(count) + \"個買いました\")\n",
    "    print(\"財布が空になりました\")"
   ]
  },
  {
   "cell_type": "code",
   "execution_count": 12,
   "metadata": {},
   "outputs": [
    {
     "name": "stdout",
     "output_type": "stream",
     "text": [
      "りんごを5個買いました\n",
      "財布が空になりました\n"
     ]
    }
   ],
   "source": [
    "if money > total_price:\n",
    "    print('りんごを' + str(count) + '個買いました')\n",
    "    print('残金は' + str(money - total_price) + '円です')\n",
    "elif money == total_price:\n",
    "    print('りんごを' + str(count) + '個買いました')\n",
    "    print('財布が空になりました')\n",
    "else:\n",
    "    print('お金が足りません')\n",
    "    print('りんごを買えませんでした')"
   ]
  },
  {
   "cell_type": "code",
   "execution_count": null,
   "metadata": {},
   "outputs": [],
   "source": []
  }
 ],
 "metadata": {
  "kernelspec": {
   "display_name": "Python 3",
   "language": "python",
   "name": "python3"
  },
  "language_info": {
   "codemirror_mode": {
    "name": "ipython",
    "version": 3
   },
   "file_extension": ".py",
   "mimetype": "text/x-python",
   "name": "python",
   "nbconvert_exporter": "python",
   "pygments_lexer": "ipython3",
   "version": "3.7.6"
  }
 },
 "nbformat": 4,
 "nbformat_minor": 4
}
