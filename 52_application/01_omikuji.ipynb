{
 "cells": [
  {
   "cell_type": "code",
   "execution_count": 19,
   "metadata": {},
   "outputs": [],
   "source": [
    "import tkinter as tk                    \n",
    "import random"
   ]
  },
  {
   "cell_type": "code",
   "execution_count": 13,
   "metadata": {},
   "outputs": [],
   "source": [
    "#おみくじ関数の定義\n",
    "def omikuji():\n",
    "    list_kuji =  ['大吉','吉','中吉','小吉','末吉','凶','大凶']\n",
    "    result = random.choice(list_kuji)                                             #random関数：list_kujiリストに格納された要素をランダムに選択\n",
    "    response_area.configure(text=result)                                    #【不明】"
   ]
  },
  {
   "cell_type": "code",
   "execution_count": 14,
   "metadata": {},
   "outputs": [],
   "source": [
    "#=================================================\n",
    "# 画面描画用の関数\n",
    "#================================================="
   ]
  },
  {
   "cell_type": "code",
   "execution_count": 20,
   "metadata": {},
   "outputs": [],
   "source": [
    "def run():\n",
    "    global response_area   #グローバル変数を使用するための記述 ※defで定義した「関数run」でなくても「response_area」を呼び出すことが可能になる\n",
    "    root = tk.Tk()                #メインウィンドウを作成\n",
    "    root.title('おみくじ')       #ウィンドウタイトルを設定\n",
    "    \n",
    "    #キャンバスの作成\n",
    "    canvas = tk.Canvas(width = 600,height = 400)\n",
    "    canvas.pack()\n",
    "    img = tk.PhotoImage(file = 'img1.gif')\n",
    "    canvas.create_image(0,0,image = img,anchor = tk.NW)\n",
    "    \n",
    "    #応答エリアを作成\n",
    "    response_area = tk.Label(width=66,height=5,bg='gray')\n",
    "    response_area.pack()\n",
    "    \n",
    "    #ボタンの作成\n",
    "    button = tk.Button(text='  おみくじ　　',command=omikuji)\n",
    "    button.pack()\n",
    "    \n",
    "    def fix():\n",
    "        a = root.winfo_geometry().split('+')[0]\n",
    "        b = a.split('x')\n",
    "        w = int(b[0])\n",
    "        h = int(b[1])\n",
    "        root.geometry('%dx%d' % (w+1,h+1))\n",
    "    root.update()\n",
    "    root.after(0, fix)\n",
    "    \n",
    "    #メインループ\n",
    "    root.mainloop()"
   ]
  },
  {
   "cell_type": "code",
   "execution_count": 23,
   "metadata": {},
   "outputs": [],
   "source": [
    "#=================================================\n",
    "# プログラムの起点\n",
    "#================================================="
   ]
  },
  {
   "cell_type": "code",
   "execution_count": null,
   "metadata": {},
   "outputs": [
    {
     "name": "stderr",
     "output_type": "stream",
     "text": [
      "Exception in Tkinter callback\n",
      "Traceback (most recent call last):\n",
      "  File \"/Users/masatotakeuchi/opt/anaconda3/lib/python3.7/tkinter/__init__.py\", line 1705, in __call__\n",
      "    return self.func(*args)\n",
      "  File \"<ipython-input-13-72f92f2d4265>\", line 4, in omikuji\n",
      "    result = random.choise(list_kuji)   # list_kujiからランダムに抽出\n",
      "AttributeError: module 'random' has no attribute 'choise'\n"
     ]
    }
   ],
   "source": [
    "if __name__  == '__main__':\n",
    "    run()"
   ]
  },
  {
   "cell_type": "code",
   "execution_count": null,
   "metadata": {},
   "outputs": [],
   "source": []
  }
 ],
 "metadata": {
  "kernelspec": {
   "display_name": "Python 3",
   "language": "python",
   "name": "python3"
  },
  "language_info": {
   "codemirror_mode": {
    "name": "ipython",
    "version": 3
   },
   "file_extension": ".py",
   "mimetype": "text/x-python",
   "name": "python",
   "nbconvert_exporter": "python",
   "pygments_lexer": "ipython3",
   "version": "3.7.6"
  }
 },
 "nbformat": 4,
 "nbformat_minor": 4
}
