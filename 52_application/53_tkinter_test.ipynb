{
 "cells": [
  {
   "cell_type": "code",
   "execution_count": 204,
   "metadata": {},
   "outputs": [],
   "source": [
    "import tkinter as tk\n",
    "from tkinter import messagebox"
   ]
  },
  {
   "cell_type": "code",
   "execution_count": 205,
   "metadata": {},
   "outputs": [
    {
     "data": {
      "text/plain": [
       "''"
      ]
     },
     "execution_count": 205,
     "metadata": {},
     "output_type": "execute_result"
    }
   ],
   "source": [
    "root = tk.Tk()\n",
    "root.title(\"python_tkinter\")\n",
    "root.geometry('500x180')"
   ]
  },
  {
   "cell_type": "code",
   "execution_count": 206,
   "metadata": {},
   "outputs": [],
   "source": [
    "label = tk.Label(root, text=\"微分方程式に於いて、x=1の場合に成り立つ式を全て選びなさい。\")\n",
    "label.pack()"
   ]
  },
  {
   "cell_type": "code",
   "execution_count": 207,
   "metadata": {},
   "outputs": [],
   "source": [
    "#チェックボタンの作成\n",
    "#chk = tk.Checkbutton(root, text='dy/dx = y')\n",
    "#chk.place(x=50, y=70)\n",
    "\n",
    "chk_txt = ['dy/dx = y','y = Ae + Be', '1/cosθ＊dθ/dx = ±1', 'y = a tanθ']\n",
    "chk_bln = {}"
   ]
  },
  {
   "cell_type": "code",
   "execution_count": 208,
   "metadata": {},
   "outputs": [],
   "source": [
    "#チェックボタンを動的に作成\n",
    "for i in range(len(chk_txt)):\n",
    "    chk_bln[i] = tk.BooleanVar()\n",
    "    chk = tk.Checkbutton(root, variable=chk_bln[i], text=chk_txt[i])\n",
    "    chk.place(x=50, y=30 + (i * 24))"
   ]
  },
  {
   "cell_type": "code",
   "execution_count": 209,
   "metadata": {},
   "outputs": [],
   "source": [
    "#クリックイベント関数を定義\n",
    "def btn_click(bln):\n",
    "    for i in range(len(chk_bln)):\n",
    "        chk_bln[i].set(bln)"
   ]
  },
  {
   "cell_type": "code",
   "execution_count": 210,
   "metadata": {},
   "outputs": [],
   "source": [
    "#全てのチェックボタンの「チェックを入れる」、及び「チェックを外す」ボタンの作成\n",
    "#btn = tk.Button(root, text='全てをONにする', bg='#6600ff', fg='#008A89', command=lambda:btn_click(True))\n",
    "btn = tk.Button(root, text='全てをONにする', command=lambda:btn_click(True))\n",
    "btn.place(x=90, y=145)\n",
    "\n",
    "btn = tk.Button(root, text='全てをOFFにする', command=lambda:btn_click(False))\n",
    "btn.place(x=300, y=145)"
   ]
  },
  {
   "cell_type": "code",
   "execution_count": 211,
   "metadata": {},
   "outputs": [],
   "source": [
    "root.mainloop()"
   ]
  },
  {
   "cell_type": "markdown",
   "metadata": {},
   "source": [
    "<次のタスク>\n",
    "* クリックした際の実行イベントを定義する（完了）\n",
    "* ボタンの背景色を定義する （未完了）\n",
    "> フォントカラーは変更できるものの背景色の変更が何故かできない（確認中）\n",
    "* 「回答する」ボタンを作成し、ボタン押下後のイベントを定義する（対応中）"
   ]
  },
  {
   "cell_type": "markdown",
   "metadata": {},
   "source": [
    "<参考URL>\n",
    "* python 学習用のURL\n",
    "> https://pg-chain.com/python-checkbutton-button\n",
    "\n",
    "* tkinterで使用するカラーコード参照先URL\n",
    "> https://www.color-sample.com/\n",
    "\n",
    "* 微分方程式の虚偽回答\n",
    "> * dy/dx = y\n",
    "> * y = Ae + Be\n",
    "> * 1/cosθ＊dθ/dx = ±1\n",
    "> * y = a tanθ"
   ]
  },
  {
   "cell_type": "code",
   "execution_count": null,
   "metadata": {},
   "outputs": [],
   "source": []
  }
 ],
 "metadata": {
  "kernelspec": {
   "display_name": "Python 3",
   "language": "python",
   "name": "python3"
  },
  "language_info": {
   "codemirror_mode": {
    "name": "ipython",
    "version": 3
   },
   "file_extension": ".py",
   "mimetype": "text/x-python",
   "name": "python",
   "nbconvert_exporter": "python",
   "pygments_lexer": "ipython3",
   "version": "3.7.6"
  }
 },
 "nbformat": 4,
 "nbformat_minor": 4
}
