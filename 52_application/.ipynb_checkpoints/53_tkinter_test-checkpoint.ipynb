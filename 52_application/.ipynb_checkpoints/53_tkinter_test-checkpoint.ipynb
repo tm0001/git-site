{
 "cells": [
  {
   "cell_type": "code",
   "execution_count": 186,
   "metadata": {},
   "outputs": [],
   "source": [
    "import tkinter as tk\n",
    "from tkinter import messagebox"
   ]
  },
  {
   "cell_type": "code",
   "execution_count": 187,
   "metadata": {},
   "outputs": [
    {
     "data": {
      "text/plain": [
       "''"
      ]
     },
     "execution_count": 187,
     "metadata": {},
     "output_type": "execute_result"
    }
   ],
   "source": [
    "root = tk.Tk()\n",
    "root.title(\"python_tkinter\")\n",
    "root.geometry('500x150+100+300')"
   ]
  },
  {
   "cell_type": "code",
   "execution_count": 188,
   "metadata": {},
   "outputs": [],
   "source": [
    "label = tk.Label(root, text=\"微分方程式において、x=1の場合に成り立つ式を全て選びなさい。\")\n",
    "label.pack()"
   ]
  },
  {
   "cell_type": "code",
   "execution_count": 189,
   "metadata": {},
   "outputs": [],
   "source": [
    "#チェックボタンの作成\n",
    "#chk = tk.Checkbutton(root, text='dy/dx = y')\n",
    "#chk.place(x=50, y=70)\n",
    "\n",
    "chk_txt = ['dy/dx = y','y = Ae + Be', '1/cosθ＊dθ/dx = ±1', 'y = a tanθ']\n",
    "chk_bln = {}"
   ]
  },
  {
   "cell_type": "code",
   "execution_count": 190,
   "metadata": {},
   "outputs": [],
   "source": [
    "for i in range(len(chk_txt)):\n",
    "    chk_bln[i] = tk.BooleanVar()\n",
    "    chk = tk.Checkbutton(root, variable=chk_bln[i], text=chk_txt[i])\n",
    "    chk.place(x=50, y=30 + (i * 24))"
   ]
  },
  {
   "cell_type": "code",
   "execution_count": 191,
   "metadata": {},
   "outputs": [],
   "source": [
    "root.mainloop()"
   ]
  },
  {
   "cell_type": "markdown",
   "metadata": {},
   "source": [
    "<次のタスク>\n",
    "* クリックした際の実行イベントを定義する\n",
    "* \n",
    "* "
   ]
  },
  {
   "cell_type": "markdown",
   "metadata": {},
   "source": [
    "<参考URL>\n",
    "\n",
    "https://pg-chain.com/python-checkbutton-button\n",
    "\n",
    "* dy/dx = y\n",
    "\n",
    "* y = Ae + Be\n",
    "\n",
    "* 1/cosθ＊dθ/dx = ±1\n",
    "\n",
    "* y = a tanθ"
   ]
  },
  {
   "cell_type": "code",
   "execution_count": null,
   "metadata": {},
   "outputs": [],
   "source": []
  },
  {
   "cell_type": "code",
   "execution_count": null,
   "metadata": {},
   "outputs": [],
   "source": []
  }
 ],
 "metadata": {
  "kernelspec": {
   "display_name": "Python 3",
   "language": "python",
   "name": "python3"
  },
  "language_info": {
   "codemirror_mode": {
    "name": "ipython",
    "version": 3
   },
   "file_extension": ".py",
   "mimetype": "text/x-python",
   "name": "python",
   "nbconvert_exporter": "python",
   "pygments_lexer": "ipython3",
   "version": "3.7.6"
  }
 },
 "nbformat": 4,
 "nbformat_minor": 4
}
