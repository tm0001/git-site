{
 "cells": [
  {
   "cell_type": "code",
   "execution_count": 69,
   "metadata": {},
   "outputs": [],
   "source": [
    "##################\n",
    "#Tkinterによる簡単なGUI#\n",
    "##################"
   ]
  },
  {
   "cell_type": "code",
   "execution_count": 70,
   "metadata": {},
   "outputs": [],
   "source": [
    "import tkinter as tk   #import [オブジェクト名] as [オブジェクトの別名] "
   ]
  },
  {
   "cell_type": "code",
   "execution_count": 71,
   "metadata": {},
   "outputs": [
    {
     "data": {
      "text/plain": [
       "''"
      ]
     },
     "execution_count": 71,
     "metadata": {},
     "output_type": "execute_result"
    }
   ],
   "source": [
    "root = tk.Tk()\n",
    "root.title(\"Python_tkinter\")                     #タイトル名を指定\n",
    "root.geometry('500x150+100+300')   #メイン画面（size=500×150）を、デスクトップ上の100行×300列の場所に表示"
   ]
  },
  {
   "cell_type": "code",
   "execution_count": 72,
   "metadata": {},
   "outputs": [],
   "source": [
    "label = tk.Label(root, text=\"↓押してね＾＾↓\")   #「Label関数」の\"text\"オプションを指定し、変数「label」に格納する\n",
    "label.pack()                                                              #「pack」を使用してオブジェクトを配置する"
   ]
  },
  {
   "cell_type": "code",
   "execution_count": 73,
   "metadata": {},
   "outputs": [],
   "source": [
    "button = tk.Button()   #「Button」関数を実行\n",
    "button[\"text\"] = \"あなたの家に爆弾を置きました。クリックすると３秒後に爆発します\"　　　#ボタン上にコメントを載せる\n",
    "button[\"command\"] = lambda: print(\"bung！\")\n",
    "button.pack()"
   ]
  },
  {
   "cell_type": "code",
   "execution_count": 74,
   "metadata": {},
   "outputs": [
    {
     "name": "stdout",
     "output_type": "stream",
     "text": [
      "bung！\n"
     ]
    }
   ],
   "source": [
    "root.mainloop()"
   ]
  },
  {
   "cell_type": "code",
   "execution_count": null,
   "metadata": {},
   "outputs": [],
   "source": [
    "#GUIアプリケーションの趣旨は「爆弾魔からの脅迫」\n",
    "#背景色を指定\n",
    "#画像の挿入\n",
    "#カウントダウンタイマーを作成する（カウントダウンを表示する）\n",
    "#Q＆A方式でボタンをクリックさせる（4択で正解、不正解でボタン押下後の出力内容を区別する）"
   ]
  }
 ],
 "metadata": {
  "kernelspec": {
   "display_name": "Python 3",
   "language": "python",
   "name": "python3"
  },
  "language_info": {
   "codemirror_mode": {
    "name": "ipython",
    "version": 3
   },
   "file_extension": ".py",
   "mimetype": "text/x-python",
   "name": "python",
   "nbconvert_exporter": "python",
   "pygments_lexer": "ipython3",
   "version": "3.7.6"
  }
 },
 "nbformat": 4,
 "nbformat_minor": 4
}
